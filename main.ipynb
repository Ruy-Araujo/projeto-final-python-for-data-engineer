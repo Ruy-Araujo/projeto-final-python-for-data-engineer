{
 "cells": [
  {
   "cell_type": "code",
   "execution_count": 40,
   "metadata": {},
   "outputs": [],
   "source": [
    "from database.models import Assets, AssetsHistory\n",
    "from datetime import date, datetime\n",
    "from dateutil.relativedelta import relativedelta\n",
    "import tools.tools as tools\n",
    "import requests\n",
    "import json"
   ]
  },
  {
   "cell_type": "markdown",
   "metadata": {},
   "source": [
    "### Inicialização do Banco SQLite"
   ]
  },
  {
   "cell_type": "code",
   "execution_count": 8,
   "metadata": {},
   "outputs": [],
   "source": [
    "assets = Assets()\n",
    "assets.drop_table()\n",
    "assets.create_table()\n",
    "\n",
    "assets_history = AssetsHistory()\n",
    "assets_history.drop_table()\n",
    "assets_history.create_table()"
   ]
  },
  {
   "cell_type": "markdown",
   "metadata": {},
   "source": [
    "### Extração de Dados da API Assets e Inserção no Banco"
   ]
  },
  {
   "cell_type": "code",
   "execution_count": 38,
   "metadata": {},
   "outputs": [],
   "source": [
    "#Config\n",
    "coins = \"bitcoin,ethereum,dogecoin\"\n",
    "\n",
    "#Extração\n",
    "BASE_ASSET_URL = f\"http://api.coincap.io/v2/assets?ids={coins}\"\n",
    "response = requests.get(BASE_ASSET_URL)\n",
    "items = response.json()['data']\n",
    "\n",
    "#Inserção\n",
    "for item in items:\n",
    "    assets.insert((item['symbol'], item['name']))"
   ]
  },
  {
   "cell_type": "code",
   "execution_count": 46,
   "metadata": {},
   "outputs": [],
   "source": [
    "#Configs\n",
    "today = date.today()\n",
    "past_date = today - relativedelta(years=5)\n",
    "dt_format = \"%Y-%m-%d\"\n",
    "\n",
    "start_unixtime = tools.to_unixtime(past_date.strftime(dt_format))\n",
    "end_unixtime = tools.to_unixtime(today.strftime(dt_format))\n",
    "\n",
    "#Extração\n",
    "BASE_HISTORY_URL = f'http://api.coincap.io/v2/assets/bitcoin/history?start={start_unixtime}&end={end_unixtime}&interval=d1'\n",
    "response = requests.get(BASE_HISTORY_URL)\n",
    "\n",
    "items = response.json()['data']\n",
    "\n",
    "#Inserção\n",
    "for item in items:\n",
    "    assets_history.insert((\n",
    "        float(item['priceUsd']), \n",
    "        item['date'][0:10],\n",
    "        1))\n"
   ]
  },
  {
   "cell_type": "markdown",
   "metadata": {},
   "source": [
    "### Extração dos Dados Formatados do Banco de Dados"
   ]
  },
  {
   "cell_type": "markdown",
   "metadata": {},
   "source": [
    "### Gráficos"
   ]
  }
 ],
 "metadata": {
  "kernelspec": {
   "display_name": "base",
   "language": "python",
   "name": "python3"
  },
  "language_info": {
   "codemirror_mode": {
    "name": "ipython",
    "version": 3
   },
   "file_extension": ".py",
   "mimetype": "text/x-python",
   "name": "python",
   "nbconvert_exporter": "python",
   "pygments_lexer": "ipython3",
   "version": "3.8.8"
  },
  "orig_nbformat": 4
 },
 "nbformat": 4,
 "nbformat_minor": 2
}
