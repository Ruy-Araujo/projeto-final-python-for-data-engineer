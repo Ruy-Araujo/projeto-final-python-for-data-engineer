{
 "cells": [
  {
   "cell_type": "code",
   "execution_count": 23,
   "metadata": {},
   "outputs": [],
   "source": [
    "from database.models import HistoricalOHLC\n",
    "from datetime import date, datetime\n",
    "from dateutil.relativedelta import relativedelta\n",
    "import tools.tools as tools\n",
    "import requests\n",
    "import json"
   ]
  },
  {
   "cell_type": "markdown",
   "metadata": {},
   "source": [
    "### Inicialização do Banco SQLite"
   ]
  },
  {
   "cell_type": "code",
   "execution_count": 24,
   "metadata": {},
   "outputs": [],
   "source": [
    "historical = HistoricalOHLC()\n",
    "historical.drop_table()\n",
    "historical.create_table()"
   ]
  },
  {
   "cell_type": "markdown",
   "metadata": {},
   "source": [
    "### Extração de Dados da API OHLC (Open, High, Low, Close) e Inserção no Banco"
   ]
  },
  {
   "cell_type": "code",
   "execution_count": null,
   "metadata": {},
   "outputs": [],
   "source": [
    "#Configs\n",
    "today = date.today()\n",
    "dt_format = \"%Y-%m-%d\"\n",
    "\n",
    "BASE_OHLC_URL = 'https://api.coinmarketcap.com/data-api/v3.1/cryptocurrency/historical'\n",
    "\n",
    "for i in range(0,60):\n",
    "    \n",
    "    date_ini = today - relativedelta(months=i+1)\n",
    "    date_end = today - relativedelta(months=i)\n",
    "    start_unixtime = tools.to_unixtime_sec(date_ini.strftime(dt_format))\n",
    "    end_unixtime = tools.to_unixtime_sec(date_end.strftime(dt_format))\n",
    "\n",
    "    #Extração \n",
    "    param = f'?id=1&convertId=2783&timeStart={start_unixtime}&timeEnd={end_unixtime}&interval=1d'\n",
    "    response = requests.get(BASE_OHLC_URL + param)\n",
    "    items = response.json()['data']['quotes']\n",
    "\n",
    "    for item in items:\n",
    "        #Inserção\n",
    "        historical.insert((\n",
    "            item['timeOpen'][0:10],\n",
    "            item['quote']['open'],\n",
    "            item['quote']['high'],\n",
    "            item['quote']['low'],\n",
    "            item['quote']['close']\n",
    "        ))\n"
   ]
  },
  {
   "cell_type": "markdown",
   "metadata": {},
   "source": [
    "### Extração dos Dados Formatados do Banco de Dados"
   ]
  },
  {
   "cell_type": "code",
   "execution_count": 5,
   "metadata": {},
   "outputs": [
    {
     "name": "stdout",
     "output_type": "stream",
     "text": [
      "2023-08-23\n"
     ]
    }
   ],
   "source": []
  },
  {
   "cell_type": "markdown",
   "metadata": {},
   "source": [
    "### Gráficos"
   ]
  }
 ],
 "metadata": {
  "kernelspec": {
   "display_name": "base",
   "language": "python",
   "name": "python3"
  },
  "language_info": {
   "codemirror_mode": {
    "name": "ipython",
    "version": 3
   },
   "file_extension": ".py",
   "mimetype": "text/x-python",
   "name": "python",
   "nbconvert_exporter": "python",
   "pygments_lexer": "ipython3",
   "version": "3.8.8"
  },
  "orig_nbformat": 4
 },
 "nbformat": 4,
 "nbformat_minor": 2
}
