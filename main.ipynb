{
 "cells": [
  {
   "cell_type": "code",
   "execution_count": 2,
   "metadata": {},
   "outputs": [],
   "source": [
    "from database.models import Assets, AssetsHistory\n",
    "from datetime import date, datetime\n",
    "from dateutil.relativedelta import relativedelta\n",
    "import tools.tools as tools\n",
    "import requests\n",
    "import json"
   ]
  },
  {
   "cell_type": "markdown",
   "metadata": {},
   "source": [
    "### Inicialização do Banco SQLite"
   ]
  },
  {
   "cell_type": "code",
   "execution_count": 3,
   "metadata": {},
   "outputs": [],
   "source": [
    "assets = Assets()\n",
    "assets.drop_table()\n",
    "assets.create_table()\n",
    "\n",
    "assets_history = AssetsHistory()\n",
    "assets_history.drop_table()\n",
    "assets_history.create_table()"
   ]
  },
  {
   "cell_type": "markdown",
   "metadata": {},
   "source": [
    "### Extração de Dados da API Assets e Inserção no Banco"
   ]
  },
  {
   "cell_type": "code",
   "execution_count": 4,
   "metadata": {},
   "outputs": [],
   "source": [
    "#Config\n",
    "coins = \"bitcoin,ethereum,dogecoin\"\n",
    "\n",
    "#Extração\n",
    "BASE_ASSET_URL = f\"http://api.coincap.io/v2/assets?ids={coins}\"\n",
    "response = requests.get(BASE_ASSET_URL)\n",
    "items = response.json()['data']\n",
    "\n",
    "#Inserção\n",
    "for item in items:\n",
    "    assets.insert((item['symbol'], item['name']))"
   ]
  },
  {
   "cell_type": "markdown",
   "metadata": {},
   "source": [
    "### Extração de Dados da API History e Inserção no Banco"
   ]
  },
  {
   "cell_type": "code",
   "execution_count": 5,
   "metadata": {},
   "outputs": [],
   "source": [
    "#Configs\n",
    "today = date.today()\n",
    "past_date = today - relativedelta(years=5)\n",
    "dt_format = \"%Y-%m-%d\"\n",
    "\n",
    "start_unixtime = tools.to_unixtime_ms(past_date.strftime(dt_format))\n",
    "end_unixtime = tools.to_unixtime_ms(today.strftime(dt_format))\n",
    "\n",
    "#Extração\n",
    "BASE_HISTORY_URL = f'http://api.coincap.io/v2/assets/bitcoin/history?start={start_unixtime}&end={end_unixtime}&interval=d1'\n",
    "response = requests.get(BASE_HISTORY_URL)\n",
    "\n",
    "items = response.json()['data']\n",
    "\n",
    "#Inserção\n",
    "for item in items:\n",
    "    assets_history.insert((\n",
    "        float(item['priceUsd']), \n",
    "        item['date'][0:10],\n",
    "        1))\n"
   ]
  },
  {
   "cell_type": "markdown",
   "metadata": {},
   "source": [
    "### Extração de Dados da API para Candles e Inserção no Banco"
   ]
  },
  {
   "cell_type": "code",
   "execution_count": 8,
   "metadata": {},
   "outputs": [
    {
     "name": "stdout",
     "output_type": "stream",
     "text": [
      "https://api.coinmarketcap.com/data-api/v3.1/cryptocurrency/historical?id=1&timeStart=1690081200&timeEnd=1692759600&interval=1d\n",
      "{'data': {'id': 1, 'name': 'Bitcoin', 'symbol': 'BTC', 'timeEnd': '1658275199', 'quotes': [{'timeOpen': '2023-07-24T00:00:00.000Z', 'timeClose': '2023-07-24T23:59:59.999Z', 'timeHigh': '2023-07-24T00:26:00.000Z', 'timeLow': '2023-07-24T15:11:00.000Z', 'quote': {'open': 30081.6616445789, 'high': 30093.3942473004, 'low': 28934.2941602457, 'close': 29176.9154848326, 'volume': 15395817395.41, 'marketCap': 567148527546.04, 'timestamp': '2023-07-24T23:59:59.999Z'}}, {'timeOpen': '2023-07-25T00:00:00.000Z', 'timeClose': '2023-07-25T23:59:59.999Z', 'timeHigh': '2023-07-25T18:41:00.000Z', 'timeLow': '2023-07-25T01:45:00.000Z', 'quote': {'open': 29178.9700445921, 'high': 29353.161104588, 'low': 29062.4342931064, 'close': 29227.390799952, 'volume': 10266772792.7, 'marketCap': 568155078548.47, 'timestamp': '2023-07-25T23:59:59.999Z'}}, {'timeOpen': '2023-07-26T00:00:00.000Z', 'timeClose': '2023-07-26T23:59:59.999Z', 'timeHigh': '2023-07-26T20:53:00.000Z', 'timeLow': '2023-07-26T01:38:00.000Z', 'quote': {'open': 29225.7601153369, 'high': 29675.5526173996, 'low': 29113.9113235798, 'close': 29354.9728831488, 'volume': 13497554655.35, 'marketCap': 570661758982.41, 'timestamp': '2023-07-26T23:59:59.999Z'}}, {'timeOpen': '2023-07-27T00:00:00.000Z', 'timeClose': '2023-07-27T23:59:59.999Z', 'timeHigh': '2023-07-27T09:56:00.000Z', 'timeLow': '2023-07-27T18:40:00.000Z', 'quote': {'open': 29353.7988292154, 'high': 29560.9662619931, 'low': 29099.3522511329, 'close': 29210.6892773374, 'volume': 10770779216.98, 'marketCap': 567881358904.56, 'timestamp': '2023-07-27T23:59:59.999Z'}}, {'timeOpen': '2023-07-28T00:00:00.000Z', 'timeClose': '2023-07-28T23:59:59.999Z', 'timeHigh': '2023-07-28T15:23:00.000Z', 'timeLow': '2023-07-28T08:11:00.000Z', 'quote': {'open': 29212.1643024276, 'high': 29521.5143305549, 'low': 29125.8455921496, 'close': 29319.2454030349, 'volume': 11218474951.63, 'marketCap': 570017791145.4, 'timestamp': '2023-07-28T23:59:59.999Z'}}, {'timeOpen': '2023-07-29T00:00:00.000Z', 'timeClose': '2023-07-29T23:59:59.999Z', 'timeHigh': '2023-07-29T04:27:00.000Z', 'timeLow': '2023-07-29T12:48:00.000Z', 'quote': {'open': 29319.4460376816, 'high': 29396.8437541811, 'low': 29264.1662739004, 'close': 29356.9185375698, 'volume': 6481775958.74, 'marketCap': 570774442718.62, 'timestamp': '2023-07-29T23:59:59.999Z'}}, {'timeOpen': '2023-07-30T00:00:00.000Z', 'timeClose': '2023-07-30T23:59:59.999Z', 'timeHigh': '2023-07-30T15:04:00.000Z', 'timeLow': '2023-07-30T20:03:00.000Z', 'quote': {'open': 29357.0936433926, 'high': 29443.169489786, 'low': 29059.5026285708, 'close': 29275.307946897, 'volume': 8678454526.64, 'marketCap': 569216997017.29, 'timestamp': '2023-07-30T23:59:59.999Z'}}, {'timeOpen': '2023-07-31T00:00:00.000Z', 'timeClose': '2023-07-31T23:59:59.999Z', 'timeHigh': '2023-07-31T00:50:00.000Z', 'timeLow': '2023-07-31T20:05:00.000Z', 'quote': {'open': 29278.3140543721, 'high': 29489.8728687203, 'low': 29131.5790337733, 'close': 29230.110878649, 'volume': 11656781981.62, 'marketCap': 568365621732.67, 'timestamp': '2023-07-31T23:59:59.999Z'}}, {'timeOpen': '2023-08-01T00:00:00.000Z', 'timeClose': '2023-08-01T23:59:59.999Z', 'timeHigh': '2023-08-01T23:59:00.000Z', 'timeLow': '2023-08-01T15:31:00.000Z', 'quote': {'open': 29230.8724049903, 'high': 29675.7324980608, 'low': 28657.0238197426, 'close': 29675.7324980608, 'volume': 18272392391.28, 'marketCap': 577056102933.27, 'timestamp': '2023-08-01T23:59:59.999Z'}}, {'timeOpen': '2023-08-02T00:00:00.000Z', 'timeClose': '2023-08-02T23:59:59.999Z', 'timeHigh': '2023-08-02T01:33:00.000Z', 'timeLow': '2023-08-02T16:56:00.000Z', 'quote': {'open': 29704.1468382002, 'high': 29987.9971121967, 'low': 28946.51037823, 'close': 29151.9596891331, 'volume': 19212655598.47, 'marketCap': 566898832325.3, 'timestamp': '2023-08-02T23:59:59.999Z'}}, {'timeOpen': '2023-08-03T00:00:00.000Z', 'timeClose': '2023-08-03T23:59:59.999Z', 'timeHigh': '2023-08-03T15:01:00.000Z', 'timeLow': '2023-08-03T08:27:00.000Z', 'quote': {'open': 29161.8119457041, 'high': 29375.7070279614, 'low': 28959.4882089026, 'close': 29178.678779687, 'volume': 12780357745.55, 'marketCap': 567446140509.39, 'timestamp': '2023-08-03T23:59:59.999Z'}}, {'timeOpen': '2023-08-04T00:00:00.000Z', 'timeClose': '2023-08-04T23:59:59.999Z', 'timeHigh': '2023-08-04T13:49:00.000Z', 'timeLow': '2023-08-04T20:51:00.000Z', 'quote': {'open': 29174.3818369773, 'high': 29302.0782223191, 'low': 28885.335399401, 'close': 29074.0917277723, 'volume': 12036639987.62, 'marketCap': 565434912959.96, 'timestamp': '2023-08-04T23:59:59.999Z'}}, {'timeOpen': '2023-08-05T00:00:00.000Z', 'timeClose': '2023-08-05T23:59:59.999Z', 'timeHigh': '2023-08-05T00:48:00.000Z', 'timeLow': '2023-08-05T12:51:00.000Z', 'quote': {'open': 29075.3889564763, 'high': 29102.4656525949, 'low': 28957.7976155422, 'close': 29042.1261500756, 'volume': 6598366352.73, 'marketCap': 564840485745.58, 'timestamp': '2023-08-05T23:59:59.999Z'}}, {'timeOpen': '2023-08-06T00:00:00.000Z', 'timeClose': '2023-08-06T23:59:59.999Z', 'timeHigh': '2023-08-06T21:20:00.000Z', 'timeLow': '2023-08-06T16:10:00.000Z', 'quote': {'open': 29043.7019801631, 'high': 29160.8215441502, 'low': 28963.8346883068, 'close': 29041.8561709403, 'volume': 7269806993.78, 'marketCap': 564864625278.2, 'timestamp': '2023-08-06T23:59:59.999Z'}}, {'timeOpen': '2023-08-07T00:00:00.000Z', 'timeClose': '2023-08-07T23:59:59.999Z', 'timeHigh': '2023-08-07T21:31:00.000Z', 'timeLow': '2023-08-07T16:18:00.000Z', 'quote': {'open': 29038.5128459431, 'high': 29244.2808643985, 'low': 28724.1405310678, 'close': 29180.5789215225, 'volume': 13618163710.33, 'marketCap': 567589047795.07, 'timestamp': '2023-08-07T23:59:59.999Z'}}, {'timeOpen': '2023-08-08T00:00:00.000Z', 'timeClose': '2023-08-08T23:59:59.999Z', 'timeHigh': '2023-08-08T21:22:00.000Z', 'timeLow': '2023-08-08T02:03:00.000Z', 'quote': {'open': 29180.0188620852, 'high': 30176.7962374838, 'low': 29113.8144640675, 'close': 29765.4926735622, 'volume': 17570561357.26, 'marketCap': 578990356568.61, 'timestamp': '2023-08-08T23:59:59.999Z'}}, {'timeOpen': '2023-08-09T00:00:00.000Z', 'timeClose': '2023-08-09T23:59:59.999Z', 'timeHigh': '2023-08-09T13:01:00.000Z', 'timeLow': '2023-08-09T20:06:00.000Z', 'quote': {'open': 29766.695595898, 'high': 30093.4351892124, 'low': 29376.8005464538, 'close': 29561.4945073243, 'volume': 18379521212.63, 'marketCap': 575052155346.9, 'timestamp': '2023-08-09T23:59:59.999Z'}}, {'timeOpen': '2023-08-10T00:00:00.000Z', 'timeClose': '2023-08-10T23:59:59.999Z', 'timeHigh': '2023-08-10T14:02:00.000Z', 'timeLow': '2023-08-10T17:33:00.000Z', 'quote': {'open': 29563.9718365603, 'high': 29688.5648164715, 'low': 29354.4464357924, 'close': 29429.5924885661, 'volume': 11865344788.64, 'marketCap': 572509489793.69, 'timestamp': '2023-08-10T23:59:59.999Z'}}, {'timeOpen': '2023-08-11T00:00:00.000Z', 'timeClose': '2023-08-11T23:59:59.999Z', 'timeHigh': '2023-08-11T14:48:00.000Z', 'timeLow': '2023-08-11T16:45:00.000Z', 'quote': {'open': 29424.902574843, 'high': 29517.7736682695, 'low': 29253.5179877987, 'close': 29397.7154970071, 'volume': 10195168196.66, 'marketCap': 571917121193.64, 'timestamp': '2023-08-11T23:59:59.999Z'}}, {'timeOpen': '2023-08-12T00:00:00.000Z', 'timeClose': '2023-08-12T23:59:59.999Z', 'timeHigh': '2023-08-12T16:35:00.000Z', 'timeLow': '2023-08-12T03:45:00.000Z', 'quote': {'open': 29399.7866548487, 'high': 29465.1137837459, 'low': 29357.5879811121, 'close': 29415.9645162195, 'volume': 6194358007.75, 'marketCap': 572302297645.31, 'timestamp': '2023-08-12T23:59:59.999Z'}}, {'timeOpen': '2023-08-13T00:00:00.000Z', 'timeClose': '2023-08-13T23:59:59.999Z', 'timeHigh': '2023-08-13T03:00:00.000Z', 'timeLow': '2023-08-13T22:42:00.000Z', 'quote': {'open': 29416.5935992443, 'high': 29441.4333889142, 'low': 29265.8075968834, 'close': 29282.9143793982, 'volume': 7329897179.69, 'marketCap': 569738074810.23, 'timestamp': '2023-08-13T23:59:59.999Z'}}, {'timeOpen': '2023-08-14T00:00:00.000Z', 'timeClose': '2023-08-14T23:59:59.999Z', 'timeHigh': '2023-08-14T16:52:00.000Z', 'timeLow': '2023-08-14T02:22:00.000Z', 'quote': {'open': 29283.262942771, 'high': 29660.2543392724, 'low': 29124.1055472393, 'close': 29408.4425504032, 'volume': 14013695304.04, 'marketCap': 572212182981.53, 'timestamp': '2023-08-14T23:59:59.999Z'}}, {'timeOpen': '2023-08-15T00:00:00.000Z', 'timeClose': '2023-08-15T23:59:59.999Z', 'timeHigh': '2023-08-15T15:04:00.000Z', 'timeLow': '2023-08-15T19:12:00.000Z', 'quote': {'open': 29408.048589907, 'high': 29439.1204218858, 'low': 29088.8532768829, 'close': 29170.3472059942, 'volume': 12640195779.03, 'marketCap': 567610646871.25, 'timestamp': '2023-08-15T23:59:59.999Z'}}, {'timeOpen': '2023-08-16T00:00:00.000Z', 'timeClose': '2023-08-16T23:59:59.999Z', 'timeHigh': '2023-08-16T02:06:00.000Z', 'timeLow': '2023-08-16T23:59:00.000Z', 'quote': {'open': 29169.0740199163, 'high': 29221.9757429755, 'low': 28701.7795245305, 'close': 28701.7795245305, 'volume': 14949271904.13, 'marketCap': 558522450868.28, 'timestamp': '2023-08-16T23:59:59.999Z'}}, {'timeOpen': '2023-08-17T00:00:00.000Z', 'timeClose': '2023-08-17T23:59:59.999Z', 'timeHigh': '2023-08-17T00:15:00.000Z', 'timeLow': '2023-08-17T21:45:00.000Z', 'quote': {'open': 28699.8028396574, 'high': 28745.9465251714, 'low': 25409.1116027686, 'close': 26664.5499931202, 'volume': 31120851211.44, 'marketCap': 518904301900.92, 'timestamp': '2023-08-17T23:59:59.999Z'}}, {'timeOpen': '2023-08-18T00:00:00.000Z', 'timeClose': '2023-08-18T23:59:59.999Z', 'timeHigh': '2023-08-18T00:13:00.000Z', 'timeLow': '2023-08-18T17:08:00.000Z', 'quote': {'open': 26636.0784021093, 'high': 26808.1957847269, 'low': 25668.9228168459, 'close': 26049.5569008807, 'volume': 24026236529.35, 'marketCap': 506957746773.53, 'timestamp': '2023-08-18T23:59:59.999Z'}}, {'timeOpen': '2023-08-19T00:00:00.000Z', 'timeClose': '2023-08-19T23:59:59.999Z', 'timeHigh': '2023-08-19T17:00:00.000Z', 'timeLow': '2023-08-19T07:03:00.000Z', 'quote': {'open': 26047.8329790106, 'high': 26249.4483843828, 'low': 25802.4078886004, 'close': 26096.2045506881, 'volume': 10631443812.07, 'marketCap': 507889708783.63, 'timestamp': '2023-08-19T23:59:59.999Z'}}, {'timeOpen': '2023-08-20T00:00:00.000Z', 'timeClose': '2023-08-20T23:59:59.999Z', 'timeHigh': '2023-08-20T20:45:00.000Z', 'timeLow': '2023-08-20T15:10:00.000Z', 'quote': {'open': 26096.8612255003, 'high': 26260.6809353842, 'low': 26004.3152995916, 'close': 26189.5846686604, 'volume': 9036580419.74, 'marketCap': 509733936200.2, 'timestamp': '2023-08-20T23:59:59.999Z'}}, {'timeOpen': '2023-08-21T00:00:00.000Z', 'timeClose': '2023-08-21T23:59:59.999Z', 'timeHigh': '2023-08-21T21:36:00.000Z', 'timeLow': '2023-08-21T15:29:00.000Z', 'quote': {'open': 26188.6906508187, 'high': 26220.2016841533, 'low': 25846.0879702768, 'close': 26124.141253131, 'volume': 13371557892.6, 'marketCap': 508487129875.96, 'timestamp': '2023-08-21T23:59:59.999Z'}}, {'timeOpen': '2023-08-22T00:00:00.000Z', 'timeClose': '2023-08-22T23:59:59.999Z', 'timeHigh': '2023-08-22T00:11:00.000Z', 'timeLow': '2023-08-22T21:27:00.000Z', 'quote': {'open': 26130.7480160416, 'high': 26135.5082032906, 'low': 25520.728490709, 'close': 26031.6564794482, 'volume': 14503820706.42, 'marketCap': 506709265107.93, 'timestamp': '2023-08-22T23:59:59.999Z'}}]}, 'status': {'timestamp': '2023-08-23T18:44:40.644Z', 'error_code': '0', 'error_message': 'SUCCESS', 'elapsed': '34', 'credit_count': 0}}\n"
     ]
    }
   ],
   "source": [
    "#Configs\n",
    "today = date.today()\n",
    "past_date = today - relativedelta(months=1)\n",
    "dt_format = \"%Y-%m-%d\"\n",
    "\n",
    "start_unixtime = tools.to_unixtime_sec(past_date.strftime(dt_format))\n",
    "end_unixtime = tools.to_unixtime_sec(today.strftime(dt_format))\n",
    "\n",
    "#Extração \n",
    "BASE_CANDLE_URL = 'https://api.coinmarketcap.com/data-api/v3.1/cryptocurrency/historical'\n",
    "param = f'?id=1&timeStart={start_unixtime}&timeEnd={end_unixtime}&interval=1d'\n",
    "\n",
    "print(BASE_CANDLE_URL + param)\n",
    "response = requests.get(BASE_CANDLE_URL + param)\n",
    "items = response.json()\n",
    "print(items)"
   ]
  },
  {
   "cell_type": "markdown",
   "metadata": {},
   "source": [
    "### Extração dos Dados Formatados do Banco de Dados"
   ]
  },
  {
   "cell_type": "markdown",
   "metadata": {},
   "source": [
    "### Gráficos"
   ]
  }
 ],
 "metadata": {
  "kernelspec": {
   "display_name": "base",
   "language": "python",
   "name": "python3"
  },
  "language_info": {
   "codemirror_mode": {
    "name": "ipython",
    "version": 3
   },
   "file_extension": ".py",
   "mimetype": "text/x-python",
   "name": "python",
   "nbconvert_exporter": "python",
   "pygments_lexer": "ipython3",
   "version": "3.8.8"
  },
  "orig_nbformat": 4
 },
 "nbformat": 4,
 "nbformat_minor": 2
}
