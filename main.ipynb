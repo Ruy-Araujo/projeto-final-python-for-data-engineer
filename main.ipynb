{
 "cells": [
  {
   "cell_type": "code",
   "execution_count": 12,
   "metadata": {},
   "outputs": [],
   "source": [
    "from database.models import HistoricalOHLC\n",
    "from datetime import date, datetime\n",
    "from dateutil.relativedelta import relativedelta\n",
    "import tools.tools as tools\n",
    "import requests\n",
    "import json\n",
    "import pandas as pd"
   ]
  },
  {
   "cell_type": "markdown",
   "metadata": {},
   "source": [
    "### Inicialização do Banco SQLite"
   ]
  },
  {
   "cell_type": "code",
   "execution_count": 3,
   "metadata": {},
   "outputs": [],
   "source": [
    "historical = HistoricalOHLC()\n",
    "historical.drop_table()\n",
    "historical.create_table()"
   ]
  },
  {
   "cell_type": "markdown",
   "metadata": {},
   "source": [
    "### Extração de Dados da API OHLC (Open, High, Low, Close) e Inserção no Banco"
   ]
  },
  {
   "cell_type": "code",
   "execution_count": 4,
   "metadata": {},
   "outputs": [],
   "source": [
    "#Configs\n",
    "today = date.today()\n",
    "dt_format = \"%Y-%m-%d\"\n",
    "\n",
    "BASE_OHLC_URL = 'https://api.coinmarketcap.com/data-api/v3.1/cryptocurrency/historical'\n",
    "\n",
    "for i in range(0,60):\n",
    "    \n",
    "    date_ini = today - relativedelta(months=i+1)\n",
    "    date_end = today - relativedelta(months=i)\n",
    "    start_unixtime = tools.to_unixtime_sec(date_ini.strftime(dt_format))\n",
    "    end_unixtime = tools.to_unixtime_sec(date_end.strftime(dt_format))\n",
    "\n",
    "    #Extração \n",
    "    param = f'?id=1&convertId=2783&timeStart={start_unixtime}&timeEnd={end_unixtime}&interval=1d'\n",
    "    response = requests.get(BASE_OHLC_URL + param)\n",
    "    items = response.json()['data']['quotes']\n",
    "\n",
    "    for item in items:\n",
    "        #Inserção\n",
    "        historical.insert((\n",
    "            item['timeOpen'][0:10],\n",
    "            item['quote']['open'],\n",
    "            item['quote']['high'],\n",
    "            item['quote']['low'],\n",
    "            item['quote']['close']\n",
    "        ))\n"
   ]
  },
  {
   "cell_type": "markdown",
   "metadata": {},
   "source": [
    "### Extração dos Dados Formatados do Banco de Dados"
   ]
  },
  {
   "cell_type": "code",
   "execution_count": 22,
   "metadata": {},
   "outputs": [
    {
     "name": "stdout",
     "output_type": "stream",
     "text": [
      "     0           1              2              3              4  \\\n",
      "0    1  2023-07-24  143681.477128  143737.516508  136977.841984   \n",
      "1    2  2023-07-25  137937.745092  139386.420821  137383.939390   \n",
      "2    3  2023-07-26  138834.050852  140543.417196  138305.635743   \n",
      "3    4  2023-07-27  139069.492713  140062.814246  137936.749541   \n",
      "4    5  2023-07-28  138556.216503  139725.327327  138149.710813   \n",
      "5    6  2023-07-29  138722.026983  139088.226539  138460.476308   \n",
      "6    7  2023-07-30  138900.152864  139307.412124  137299.669651   \n",
      "7    8  2023-07-31  138334.178244  139333.073063  137798.195146   \n",
      "8    9  2023-08-01  138148.026073  142250.623729  137152.516001   \n",
      "9   10  2023-08-02  142386.827869  143747.464157  139154.559341   \n",
      "10  11  2023-08-03  140323.722902  143497.824371  139358.849159   \n",
      "11  12  2023-08-04  143476.692436  143476.692436  140665.806328   \n",
      "12  13  2023-08-05  141696.000540  141827.956111  141122.930900   \n",
      "13  14  2023-08-06  141541.577230  142112.930930  141152.351970   \n",
      "14  15  2023-08-07  141908.308427  143311.598376  140872.865200   \n",
      "15  16  2023-08-08  142996.682434  147881.389962  142663.513637   \n",
      "16  17  2023-08-09  145850.855081  147382.899774  144099.082040   \n",
      "17  18  2023-08-10  144958.066709  144958.066709  142768.285685   \n",
      "18  19  2023-08-11  143976.048299  144281.047888  143163.791680   \n",
      "19  20  2023-08-12  144291.212923  144553.608874  144084.106052   \n",
      "20  21  2023-08-13  144368.139990  144490.046499  143765.938555   \n",
      "21  22  2023-08-14  143854.029206  146690.719886  143089.642964   \n",
      "22  23  2023-08-15  145969.789981  146565.604932  145118.471228   \n",
      "23  24  2023-08-16  145402.000174  145668.626881  143175.956980   \n",
      "24  25  2023-08-17  143166.096485  143396.279646  126463.689358   \n",
      "25  26  2023-08-18  132567.762207  133424.390421  127397.430832   \n",
      "26  27  2023-08-19  129465.544256  130470.258250  128245.707929   \n",
      "27  28  2023-08-20  129711.839035  130536.592794  129262.250491   \n",
      "28  29  2023-08-21  130115.890630  130555.628226  128979.732798   \n",
      "29  30  2023-08-22  130136.351269  130160.057954  126031.565579   \n",
      "\n",
      "                5                           6  \n",
      "0   137928.032571  2023-08-23 18:59:19.057527  \n",
      "1   138841.797256  2023-08-23 18:59:19.115029  \n",
      "2   139075.055028  2023-08-23 18:59:19.165914  \n",
      "3   138549.220311  2023-08-23 18:59:19.213609  \n",
      "4   138721.077700  2023-08-23 18:59:19.270692  \n",
      "5   138899.324369  2023-08-23 18:59:19.319581  \n",
      "6   138319.974988  2023-08-23 18:59:19.369714  \n",
      "7   138144.427024  2023-08-23 18:59:19.420638  \n",
      "8   142250.623729  2023-08-23 18:59:19.489314  \n",
      "9   140276.314828  2023-08-23 18:59:19.555430  \n",
      "10  143497.824371  2023-08-23 18:59:19.620047  \n",
      "11  141689.678626  2023-08-23 18:59:19.686777  \n",
      "12  141533.897580  2023-08-23 18:59:19.811723  \n",
      "13  141924.646922  2023-08-23 18:59:19.884766  \n",
      "14  142999.427005  2023-08-23 18:59:19.974702  \n",
      "15  145844.961002  2023-08-23 18:59:20.056453  \n",
      "16  144945.919868  2023-08-23 18:59:20.122264  \n",
      "17  143998.996047  2023-08-23 18:59:20.216981  \n",
      "18  144281.047888  2023-08-23 18:59:20.310928  \n",
      "19  144365.052632  2023-08-23 18:59:20.430051  \n",
      "20  143852.316889  2023-08-23 18:59:20.502144  \n",
      "21  145971.745443  2023-08-23 18:59:20.587536  \n",
      "22  145408.346752  2023-08-23 18:59:20.652951  \n",
      "23  143175.956980  2023-08-23 18:59:20.716284  \n",
      "24  132709.465316  2023-08-23 18:59:20.775583  \n",
      "25  129474.112664  2023-08-23 18:59:20.828274  \n",
      "26  129708.575099  2023-08-23 18:59:20.884925  \n",
      "27  130120.332468  2023-08-23 18:59:20.950820  \n",
      "28  130103.448269  2023-08-23 18:59:21.007686  \n",
      "29  128552.129192  2023-08-23 18:59:21.081052  \n"
     ]
    }
   ],
   "source": [
    "today = date.today()\n",
    "dt_format = \"%Y-%m-%d\"\n",
    "\n",
    "date_1month = today - relativedelta(months=1)\n",
    "date_5year = today - relativedelta(years=5)\n",
    "\n",
    "graph_candle = historical.read_with_filter(f'date between date(\"{date_1month.strftime(dt_format)}\") and date(\"{today.strftime(dt_format)}\")')\n",
    "graph_all = historical.read_with_filter(f'date between date(\"{date_5year.strftime(dt_format)}\") and date(\"{today.strftime(dt_format)}\")')\n",
    "\n",
    "df_candle = pd.DataFrame(graph_candle)\n",
    "df_candle = df_candle.columns[1, 3, 4].rename(columns={1: \"Data\", 3: \"Preco_Max\", 4: \"Preco_Min\" })\n"
   ]
  },
  {
   "cell_type": "markdown",
   "metadata": {},
   "source": [
    "### Gráficos"
   ]
  }
 ],
 "metadata": {
  "kernelspec": {
   "display_name": "base",
   "language": "python",
   "name": "python3"
  },
  "language_info": {
   "codemirror_mode": {
    "name": "ipython",
    "version": 3
   },
   "file_extension": ".py",
   "mimetype": "text/x-python",
   "name": "python",
   "nbconvert_exporter": "python",
   "pygments_lexer": "ipython3",
   "version": "3.8.8"
  },
  "orig_nbformat": 4
 },
 "nbformat": 4,
 "nbformat_minor": 2
}
