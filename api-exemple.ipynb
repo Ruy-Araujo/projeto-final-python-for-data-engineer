{
 "cells": [
  {
   "cell_type": "markdown",
   "metadata": {},
   "source": [
    "# Exemplo API coinmarketcap\n",
    "\n",
    "[Documentação](https://coinmarketcap.com/api/documentation/v1/#section/Quick-Start-Guide)"
   ]
  },
  {
   "cell_type": "code",
   "execution_count": 8,
   "metadata": {},
   "outputs": [],
   "source": [
    "import requests\n",
    "import json"
   ]
  },
  {
   "cell_type": "code",
   "execution_count": 3,
   "metadata": {},
   "outputs": [],
   "source": [
    "BASE_URL = 'https://pro-api.coinmarketcap.com/v1'\n",
    "API_KEY = 'API_KEY'\n"
   ]
  },
  {
   "cell_type": "markdown",
   "metadata": {},
   "source": [
    "### Preço Atual\n",
    "\n",
    "Segundo a documentação é possivel coletar o dado atualizado a cada 60 segundos com os preços das moeadas."
   ]
  },
  {
   "cell_type": "markdown",
   "metadata": {},
   "source": [
    "| parametro | descricao |\n",
    "|---|---|\n",
    "|start  | ID do primeiro registro a ser retornado|\n",
    "|limit  | Quantidade de registros a serem retornados|\n",
    "|convert| Moeda de conversão|"
   ]
  },
  {
   "cell_type": "code",
   "execution_count": 10,
   "metadata": {},
   "outputs": [
    {
     "name": "stdout",
     "output_type": "stream",
     "text": [
      "{\n",
      "    \"status\": {\n",
      "        \"timestamp\": \"2023-08-19T19:02:01.087Z\",\n",
      "        \"error_code\": 0,\n",
      "        \"error_message\": null,\n",
      "        \"elapsed\": 21,\n",
      "        \"credit_count\": 1,\n",
      "        \"notice\": null,\n",
      "        \"total_count\": 9539\n",
      "    },\n",
      "    \"data\": [\n",
      "        {\n",
      "            \"id\": 1,\n",
      "            \"name\": \"Bitcoin\",\n",
      "            \"symbol\": \"BTC\",\n",
      "            \"slug\": \"bitcoin\",\n",
      "            \"num_market_pairs\": 10392,\n",
      "            \"date_added\": \"2010-07-13T00:00:00.000Z\",\n",
      "            \"tags\": [\n",
      "                \"mineable\",\n",
      "                \"pow\",\n",
      "                \"sha-256\",\n",
      "                \"store-of-value\",\n",
      "                \"state-channel\",\n",
      "                \"coinbase-ventures-portfolio\",\n",
      "                \"three-arrows-capital-portfolio\",\n",
      "                \"polychain-capital-portfolio\",\n",
      "                \"binance-labs-portfolio\",\n",
      "                \"blockchain-capital-portfolio\",\n",
      "                \"boostvc-portfolio\",\n",
      "                \"cms-holdings-portfolio\",\n",
      "                \"dcg-portfolio\",\n",
      "                \"dragonfly-capital-portfolio\",\n",
      "                \"electric-capital-portfolio\",\n",
      "                \"fabric-ventures-portfolio\",\n",
      "                \"framework-ventures-portfolio\",\n",
      "                \"galaxy-digital-portfolio\",\n",
      "                \"huobi-capital-portfolio\",\n",
      "                \"alameda-research-portfolio\",\n",
      "                \"a16z-portfolio\",\n",
      "                \"1confirmation-portfolio\",\n",
      "                \"winklevoss-capital-portfolio\",\n",
      "                \"usv-portfolio\",\n",
      "                \"placeholder-ventures-portfolio\",\n",
      "                \"pantera-capital-portfolio\",\n",
      "                \"multicoin-capital-portfolio\",\n",
      "                \"paradigm-portfolio\",\n",
      "                \"bitcoin-ecosystem\"\n",
      "            ],\n",
      "            \"max_supply\": 21000000,\n",
      "            \"circulating_supply\": 19462056,\n",
      "            \"total_supply\": 19462056,\n",
      "            \"infinite_supply\": false,\n",
      "            \"platform\": null,\n",
      "            \"cmc_rank\": 1,\n",
      "            \"self_reported_circulating_supply\": null,\n",
      "            \"self_reported_market_cap\": null,\n",
      "            \"tvl_ratio\": null,\n",
      "            \"last_updated\": \"2023-08-19T18:59:00.000Z\",\n",
      "            \"quote\": {\n",
      "                \"BRL\": {\n",
      "                    \"price\": 129881.67106157346,\n",
      "                    \"volume_24h\": 61704732382.36047,\n",
      "                    \"volume_change_24h\": -63.6555,\n",
      "                    \"percent_change_1h\": 0.13733544,\n",
      "                    \"percent_change_24h\": 0.05644641,\n",
      "                    \"percent_change_7d\": -11.16066113,\n",
      "                    \"percent_change_30d\": -11.97919412,\n",
      "                    \"percent_change_60d\": -7.01254992,\n",
      "                    \"percent_change_90d\": -2.80110765,\n",
      "                    \"market_cap\": 2527764355573.9224,\n",
      "                    \"market_cap_dominance\": 48.0697,\n",
      "                    \"fully_diluted_market_cap\": 2727515092293.0376,\n",
      "                    \"tvl\": null,\n",
      "                    \"last_updated\": \"2023-08-19T19:00:05.000Z\"\n",
      "                }\n",
      "            }\n",
      "        }\n",
      "    ]\n",
      "}\n"
     ]
    }
   ],
   "source": [
    "end_point = '/cryptocurrency/listings/latest'\n",
    "\n",
    "params = {\n",
    "    \"start\": \"1\",\n",
    "    \"limit\": \"1\",\n",
    "    \"convert\": \"BRL\"\n",
    "}\n",
    "\n",
    "headers = {\n",
    "    'X-CMC_PRO_API_KEY': API_KEY\n",
    "}\n",
    "\n",
    "response = requests.get(BASE_URL + end_point, headers=headers, params=params)\n",
    "\n",
    "# json.dumps apenas para formatar a saida\n",
    "print(json.dumps(response.json(), indent=4))"
   ]
  }
 ],
 "metadata": {
  "kernelspec": {
   "display_name": ".venv",
   "language": "python",
   "name": "python3"
  },
  "language_info": {
   "codemirror_mode": {
    "name": "ipython",
    "version": 3
   },
   "file_extension": ".py",
   "mimetype": "text/x-python",
   "name": "python",
   "nbconvert_exporter": "python",
   "pygments_lexer": "ipython3",
   "version": "3.10.12"
  },
  "orig_nbformat": 4
 },
 "nbformat": 4,
 "nbformat_minor": 2
}
