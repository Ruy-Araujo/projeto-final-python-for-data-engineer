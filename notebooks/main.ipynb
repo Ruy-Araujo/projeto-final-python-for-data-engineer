{
 "cells": [
  {
   "cell_type": "markdown",
   "metadata": {},
   "source": [
    "### Instalação de bibliotecas com Pip"
   ]
  },
  {
   "cell_type": "code",
   "execution_count": null,
   "metadata": {},
   "outputs": [],
   "source": [
    "! pip install -r requirements.txt"
   ]
  },
  {
   "cell_type": "markdown",
   "metadata": {},
   "source": [
    "### Importação de Bibliotecas Python"
   ]
  },
  {
   "cell_type": "code",
   "execution_count": 3,
   "metadata": {},
   "outputs": [],
   "source": [
    "from database.models import HistoricalOHLC\n",
    "from datetime import date, datetime\n",
    "from dateutil.relativedelta import relativedelta\n",
    "import tools.tools as tools\n",
    "import pandas as pd\n",
    "# import matplotlib.pyplot as plt\n",
    "import os"
   ]
  },
  {
   "cell_type": "markdown",
   "metadata": {},
   "source": [
    "### Extração de Dados da API OHLC (Open, High, Low, Close) e Inserção no Banco"
   ]
  },
  {
   "cell_type": "code",
   "execution_count": 2,
   "metadata": {},
   "outputs": [
    {
     "ename": "NameError",
     "evalue": "name 'date' is not defined",
     "output_type": "error",
     "traceback": [
      "\u001b[0;31m---------------------------------------------------------------------------\u001b[0m",
      "\u001b[0;31mNameError\u001b[0m                                 Traceback (most recent call last)",
      "Cell \u001b[0;32mIn[2], line 1\u001b[0m\n\u001b[0;32m----> 1\u001b[0m today \u001b[39m=\u001b[39m date\u001b[39m.\u001b[39mtoday()\n\u001b[1;32m      2\u001b[0m dt_format \u001b[39m=\u001b[39m \u001b[39m\"\u001b[39m\u001b[39m%\u001b[39m\u001b[39mY-\u001b[39m\u001b[39m%\u001b[39m\u001b[39mm-\u001b[39m\u001b[39m%d\u001b[39;00m\u001b[39m\"\u001b[39m\n\u001b[1;32m      3\u001b[0m date_5year \u001b[39m=\u001b[39m today \u001b[39m-\u001b[39m relativedelta(years\u001b[39m=\u001b[39m\u001b[39m5\u001b[39m)\n",
      "\u001b[0;31mNameError\u001b[0m: name 'date' is not defined"
     ]
    }
   ],
   "source": [
    "today = date.today()\n",
    "dt_format = \"%Y-%m-%d\"\n",
    "date_5year = today - relativedelta(years=5)\n",
    "\n",
    "os.system(f\"python main.py -id 1 -start {date_5year.strftime(dt_format)} -end {today.strftime(dt_format)} -i 1d -c BRL\")"
   ]
  },
  {
   "cell_type": "markdown",
   "metadata": {},
   "source": [
    "### Extração dos Dados Formatados do Banco de Dados"
   ]
  },
  {
   "cell_type": "code",
   "execution_count": 12,
   "metadata": {},
   "outputs": [],
   "source": [
    "today = date.today()\n",
    "dt_format = \"%Y-%m-%d\"\n",
    "\n",
    "date_1month = today - relativedelta(months=1)\n",
    "date_5year = today - relativedelta(years=5)\n",
    "\n",
    "historical = HistoricalOHLC()\n",
    "graph_candle = await historical.read_with_filter(f'date between date(\"{date_1month.strftime(dt_format)}\") and date(\"{today.strftime(dt_format)}\")')\n",
    "graph_all = await historical.read_with_filter(f'date between date(\"{date_5year.strftime(dt_format)}\") and date(\"{today.strftime(dt_format)}\")')\n",
    "\n",
    "df_candle = pd.DataFrame(graph_candle)\n",
    "df_candle = df_candle[[1,3,4]]\n",
    "df_candle.rename({1: \"Data\", 3: \"Preco_Max\", 4: \"Preco_Min\"}, axis=1, inplace=True)\n",
    "\n",
    "df_all = pd.DataFrame(graph_all)\n",
    "df_all = df_all[[1,5]]\n",
    "df_all.rename({1: \"Data\", 5: \"Preco_Fechamento\"}, axis=1, inplace=True)"
   ]
  },
  {
   "cell_type": "markdown",
   "metadata": {},
   "source": [
    "### Gráficos/Plots"
   ]
  },
  {
   "cell_type": "code",
   "execution_count": 50,
   "metadata": {},
   "outputs": [],
   "source": [
    "#df_all['Preco_Fechamento'].plot()"
   ]
  }
 ],
 "metadata": {
  "kernelspec": {
   "display_name": "base",
   "language": "python",
   "name": "python3"
  },
  "language_info": {
   "codemirror_mode": {
    "name": "ipython",
    "version": 3
   },
   "file_extension": ".py",
   "mimetype": "text/x-python",
   "name": "python",
   "nbconvert_exporter": "python",
   "pygments_lexer": "ipython3",
   "version": "3.10.12"
  },
  "orig_nbformat": 4
 },
 "nbformat": 4,
 "nbformat_minor": 2
}
